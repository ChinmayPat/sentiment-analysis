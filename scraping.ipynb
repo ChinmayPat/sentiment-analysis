{
 "cells": [
  {
   "cell_type": "code",
   "execution_count": 1,
   "metadata": {},
   "outputs": [],
   "source": [
    "import pandas as pd\n",
    "import numpy as np\n",
    "from selenium import webdriver\n",
    "from selenium.webdriver.common.by import By\n",
    "from selenium.webdriver.support.ui import WebDriverWait\n",
    "from selenium.webdriver.chrome.service import Service as ChromeService\n",
    "from webdriver_manager.chrome import ChromeDriverManager\n",
    "from selenium.webdriver.support import expected_conditions as EC"
   ]
  },
  {
   "cell_type": "code",
   "execution_count": 2,
   "metadata": {},
   "outputs": [],
   "source": [
    "def get_reviews(page_url):\n",
    "    # created and initialized variables\n",
    "    driver_path = 'drive/chromedriver.exe'\n",
    "    review_df = pd.DataFrame(columns=['title','rating', 'review'])\n",
    "    review_list = []\n",
    "    title_list = []\n",
    "    content_list = []\n",
    "    rating_list = []\n",
    "\n",
    "    # initialzed driver and opened page in browser\n",
    "    driver = webdriver.Chrome(service=ChromeService(executable_path=driver_path))\n",
    "    driver.get(page_url)\n",
    "\n",
    "    # clicked on load more\n",
    "    driver.implicitly_wait(5)\n",
    "    load_more = driver.find_element(By.CSS_SELECTOR, value='ul.a-pagination>li.a-last')\n",
    "    load_more_clicks = 0\n",
    "    while load_more_clicks <10000:\n",
    "    # scraped reviews\n",
    "        review_list = driver.find_elements(By.CLASS_NAME, value='review')\n",
    "        for i, obj in enumerate(review_list):\n",
    "            # get title\n",
    "            try:\n",
    "                title_list.append(obj.find_element(By.CSS_SELECTOR, value='a.review-title-content>span').text)\n",
    "            except:\n",
    "                title_list.append('')\n",
    "\n",
    "            # get rating\n",
    "            rating_list.append(obj.find_element(By.CSS_SELECTOR, value='div.a-row>a.a-link-normal').get_attribute('title').replace('out of 5 stars', '').strip())\n",
    "\n",
    "            #get review \n",
    "            try:\n",
    "                content_list.append(obj.find_element(By.CSS_SELECTOR, value='span.review-text>span').text)\n",
    "            except:\n",
    "                try:\n",
    "                    content_list.append(obj.find_element(By.CSS_SELECTOR, value='a.review-title-content>span').text)\n",
    "                except:\n",
    "                    content_list.append('')\n",
    "            \n",
    "        load_more = driver.find_elements(By.CSS_SELECTOR, value='ul.a-pagination>li')[1]\n",
    "        if 'a-disabled' in load_more.get_attribute('class'):\n",
    "            break\n",
    "        else:\n",
    "            load_more.click()\n",
    "        driver.refresh()\n",
    "        load_more_clicks += 1\n",
    "\n",
    "    # assigned reviews into dataframe\n",
    "    review_df['title'] = title_list\n",
    "    review_df['rating'] = rating_list\n",
    "    review_df['review'] = content_list\n",
    "\n",
    "    # closed browser and shutdown driver\n",
    "    driver.quit()\n",
    "\n",
    "    return review_df"
   ]
  },
  {
   "cell_type": "code",
   "execution_count": 6,
   "metadata": {},
   "outputs": [
    {
     "ename": "StaleElementReferenceException",
     "evalue": "Message: stale element reference: element is not attached to the page document\n  (Session info: chrome=108.0.5359.125)\nStacktrace:\nBacktrace:\n\t(No symbol) [0x008DF243]\n\t(No symbol) [0x00867FD1]\n\t(No symbol) [0x0075D04D]\n\t(No symbol) [0x0075FD34]\n\t(No symbol) [0x0075FBE5]\n\t(No symbol) [0x0075FE80]\n\t(No symbol) [0x0078BD55]\n\t(No symbol) [0x0078C22B]\n\t(No symbol) [0x00782CA1]\n\t(No symbol) [0x007A85D4]\n\t(No symbol) [0x00782BFF]\n\t(No symbol) [0x007A8804]\n\t(No symbol) [0x007BC9EB]\n\t(No symbol) [0x007A8386]\n\t(No symbol) [0x0078163C]\n\t(No symbol) [0x0078269D]\n\tGetHandleVerifier [0x00B79A22+2655074]\n\tGetHandleVerifier [0x00B6CA24+2601828]\n\tGetHandleVerifier [0x00988C0A+619850]\n\tGetHandleVerifier [0x00987830+614768]\n\t(No symbol) [0x008705FC]\n\t(No symbol) [0x00875968]\n\t(No symbol) [0x00875A55]\n\t(No symbol) [0x0088051B]\n\tBaseThreadInitThunk [0x76906BD9+25]\n\tRtlGetFullPathName_UEx [0x77D28FD2+1218]\n\tRtlGetFullPathName_UEx [0x77D28F9D+1165]\n",
     "output_type": "error",
     "traceback": [
      "\u001b[1;31m---------------------------------------------------------------------------\u001b[0m",
      "\u001b[1;31mStaleElementReferenceException\u001b[0m            Traceback (most recent call last)",
      "\u001b[1;32mc:\\Users\\cpata\\Documents\\BIA 660 Web Mining\\Project\\scraping.ipynb Cell 3\u001b[0m in \u001b[0;36m<cell line: 7>\u001b[1;34m()\u001b[0m\n\u001b[0;32m      <a href='vscode-notebook-cell:/c%3A/Users/cpata/Documents/BIA%20660%20Web%20Mining/Project/scraping.ipynb#W2sZmlsZQ%3D%3D?line=0'>1</a>\u001b[0m \u001b[39m#page_url = 'https://www.amazon.com/Biscotti-Birthday-Christmas-Sympathy-Thanksgiving/product-reviews/B09K2KVFYC/ref=cm_cr_dp_d_show_all_btm?ie=UTF8&reviewerType=all_reviews'\u001b[39;00m\n\u001b[0;32m      <a href='vscode-notebook-cell:/c%3A/Users/cpata/Documents/BIA%20660%20Web%20Mining/Project/scraping.ipynb#W2sZmlsZQ%3D%3D?line=1'>2</a>\u001b[0m \u001b[39m#page_url = 'https://www.amazon.com/Barnetts-Biscotti-Christmas-Thanksgiving-Valentines/product-reviews/B006J7TAHM/ref=cm_cr_dp_d_show_all_btm?ie=UTF8&reviewerType=all_reviews'\u001b[39;00m\n\u001b[0;32m      <a href='vscode-notebook-cell:/c%3A/Users/cpata/Documents/BIA%20660%20Web%20Mining/Project/scraping.ipynb#W2sZmlsZQ%3D%3D?line=2'>3</a>\u001b[0m \u001b[39m#page_url = 'https://www.amazon.com/Barnetts-Gift-Cookie-Baskets-Thanksgiving/product-reviews/B07Q8DTKR9/ref=cm_cr_dp_d_show_all_btm?ie=UTF8&reviewerType=all_reviews'\u001b[39;00m\n\u001b[0;32m      <a href='vscode-notebook-cell:/c%3A/Users/cpata/Documents/BIA%20660%20Web%20Mining/Project/scraping.ipynb#W2sZmlsZQ%3D%3D?line=3'>4</a>\u001b[0m \u001b[39m#page_url = 'https://www.amazon.com/Godiva-Chocolatier-Assorted-Chocolate-19-Ct/product-reviews/B08GJQRKRH/ref=cm_cr_dp_d_show_all_btm?ie=UTF8&reviewerType=all_reviews'\u001b[39;00m\n\u001b[0;32m      <a href='vscode-notebook-cell:/c%3A/Users/cpata/Documents/BIA%20660%20Web%20Mining/Project/scraping.ipynb#W2sZmlsZQ%3D%3D?line=4'>5</a>\u001b[0m page_url \u001b[39m=\u001b[39m \u001b[39m'\u001b[39m\u001b[39mhttps://www.amazon.com/Lindt-Swiss-Luxury-Selection-Chocolate/product-reviews/B0097BVKXO/ref=cm_cr_dp_d_show_all_btm?ie=UTF8&reviewerType=all_reviews\u001b[39m\u001b[39m'\u001b[39m\n\u001b[1;32m----> <a href='vscode-notebook-cell:/c%3A/Users/cpata/Documents/BIA%20660%20Web%20Mining/Project/scraping.ipynb#W2sZmlsZQ%3D%3D?line=6'>7</a>\u001b[0m review_df \u001b[39m=\u001b[39m get_reviews(page_url)\n\u001b[0;32m      <a href='vscode-notebook-cell:/c%3A/Users/cpata/Documents/BIA%20660%20Web%20Mining/Project/scraping.ipynb#W2sZmlsZQ%3D%3D?line=7'>8</a>\u001b[0m review_df\u001b[39m.\u001b[39mto_csv(\u001b[39m'\u001b[39m\u001b[39mamazonreviews4.csv\u001b[39m\u001b[39m'\u001b[39m, index\u001b[39m=\u001b[39m \u001b[39mFalse\u001b[39;00m)\n",
      "\u001b[1;32mc:\\Users\\cpata\\Documents\\BIA 660 Web Mining\\Project\\scraping.ipynb Cell 3\u001b[0m in \u001b[0;36mget_reviews\u001b[1;34m(page_url)\u001b[0m\n\u001b[0;32m     <a href='vscode-notebook-cell:/c%3A/Users/cpata/Documents/BIA%20660%20Web%20Mining/Project/scraping.ipynb#W2sZmlsZQ%3D%3D?line=25'>26</a>\u001b[0m     title_list\u001b[39m.\u001b[39mappend(\u001b[39m'\u001b[39m\u001b[39m'\u001b[39m)\n\u001b[0;32m     <a href='vscode-notebook-cell:/c%3A/Users/cpata/Documents/BIA%20660%20Web%20Mining/Project/scraping.ipynb#W2sZmlsZQ%3D%3D?line=27'>28</a>\u001b[0m \u001b[39m# get rating\u001b[39;00m\n\u001b[1;32m---> <a href='vscode-notebook-cell:/c%3A/Users/cpata/Documents/BIA%20660%20Web%20Mining/Project/scraping.ipynb#W2sZmlsZQ%3D%3D?line=28'>29</a>\u001b[0m rating_list\u001b[39m.\u001b[39mappend(obj\u001b[39m.\u001b[39;49mfind_element(By\u001b[39m.\u001b[39;49mCSS_SELECTOR, value\u001b[39m=\u001b[39;49m\u001b[39m'\u001b[39;49m\u001b[39mdiv.a-row>a.a-link-normal\u001b[39;49m\u001b[39m'\u001b[39;49m)\u001b[39m.\u001b[39mget_attribute(\u001b[39m'\u001b[39m\u001b[39mtitle\u001b[39m\u001b[39m'\u001b[39m)\u001b[39m.\u001b[39mreplace(\u001b[39m'\u001b[39m\u001b[39mout of 5 stars\u001b[39m\u001b[39m'\u001b[39m, \u001b[39m'\u001b[39m\u001b[39m'\u001b[39m)\u001b[39m.\u001b[39mstrip())\n\u001b[0;32m     <a href='vscode-notebook-cell:/c%3A/Users/cpata/Documents/BIA%20660%20Web%20Mining/Project/scraping.ipynb#W2sZmlsZQ%3D%3D?line=30'>31</a>\u001b[0m \u001b[39m#get review \u001b[39;00m\n\u001b[0;32m     <a href='vscode-notebook-cell:/c%3A/Users/cpata/Documents/BIA%20660%20Web%20Mining/Project/scraping.ipynb#W2sZmlsZQ%3D%3D?line=31'>32</a>\u001b[0m \u001b[39mtry\u001b[39;00m:\n",
      "File \u001b[1;32mc:\\Users\\cpata\\AppData\\Local\\Programs\\Python\\Python310\\lib\\site-packages\\selenium\\webdriver\\remote\\webelement.py:419\u001b[0m, in \u001b[0;36mWebElement.find_element\u001b[1;34m(self, by, value)\u001b[0m\n\u001b[0;32m    416\u001b[0m     by \u001b[39m=\u001b[39m By\u001b[39m.\u001b[39mCSS_SELECTOR\n\u001b[0;32m    417\u001b[0m     value \u001b[39m=\u001b[39m \u001b[39m'\u001b[39m\u001b[39m[name=\u001b[39m\u001b[39m\"\u001b[39m\u001b[39m%s\u001b[39;00m\u001b[39m\"\u001b[39m\u001b[39m]\u001b[39m\u001b[39m'\u001b[39m \u001b[39m%\u001b[39m value\n\u001b[1;32m--> 419\u001b[0m \u001b[39mreturn\u001b[39;00m \u001b[39mself\u001b[39;49m\u001b[39m.\u001b[39;49m_execute(Command\u001b[39m.\u001b[39;49mFIND_CHILD_ELEMENT,\n\u001b[0;32m    420\u001b[0m                      {\u001b[39m\"\u001b[39;49m\u001b[39musing\u001b[39;49m\u001b[39m\"\u001b[39;49m: by, \u001b[39m\"\u001b[39;49m\u001b[39mvalue\u001b[39;49m\u001b[39m\"\u001b[39;49m: value})[\u001b[39m'\u001b[39m\u001b[39mvalue\u001b[39m\u001b[39m'\u001b[39m]\n",
      "File \u001b[1;32mc:\\Users\\cpata\\AppData\\Local\\Programs\\Python\\Python310\\lib\\site-packages\\selenium\\webdriver\\remote\\webelement.py:396\u001b[0m, in \u001b[0;36mWebElement._execute\u001b[1;34m(self, command, params)\u001b[0m\n\u001b[0;32m    394\u001b[0m     params \u001b[39m=\u001b[39m {}\n\u001b[0;32m    395\u001b[0m params[\u001b[39m'\u001b[39m\u001b[39mid\u001b[39m\u001b[39m'\u001b[39m] \u001b[39m=\u001b[39m \u001b[39mself\u001b[39m\u001b[39m.\u001b[39m_id\n\u001b[1;32m--> 396\u001b[0m \u001b[39mreturn\u001b[39;00m \u001b[39mself\u001b[39;49m\u001b[39m.\u001b[39;49m_parent\u001b[39m.\u001b[39;49mexecute(command, params)\n",
      "File \u001b[1;32mc:\\Users\\cpata\\AppData\\Local\\Programs\\Python\\Python310\\lib\\site-packages\\selenium\\webdriver\\remote\\webdriver.py:429\u001b[0m, in \u001b[0;36mWebDriver.execute\u001b[1;34m(self, driver_command, params)\u001b[0m\n\u001b[0;32m    427\u001b[0m response \u001b[39m=\u001b[39m \u001b[39mself\u001b[39m\u001b[39m.\u001b[39mcommand_executor\u001b[39m.\u001b[39mexecute(driver_command, params)\n\u001b[0;32m    428\u001b[0m \u001b[39mif\u001b[39;00m response:\n\u001b[1;32m--> 429\u001b[0m     \u001b[39mself\u001b[39;49m\u001b[39m.\u001b[39;49merror_handler\u001b[39m.\u001b[39;49mcheck_response(response)\n\u001b[0;32m    430\u001b[0m     response[\u001b[39m'\u001b[39m\u001b[39mvalue\u001b[39m\u001b[39m'\u001b[39m] \u001b[39m=\u001b[39m \u001b[39mself\u001b[39m\u001b[39m.\u001b[39m_unwrap_value(\n\u001b[0;32m    431\u001b[0m         response\u001b[39m.\u001b[39mget(\u001b[39m'\u001b[39m\u001b[39mvalue\u001b[39m\u001b[39m'\u001b[39m, \u001b[39mNone\u001b[39;00m))\n\u001b[0;32m    432\u001b[0m     \u001b[39mreturn\u001b[39;00m response\n",
      "File \u001b[1;32mc:\\Users\\cpata\\AppData\\Local\\Programs\\Python\\Python310\\lib\\site-packages\\selenium\\webdriver\\remote\\errorhandler.py:243\u001b[0m, in \u001b[0;36mErrorHandler.check_response\u001b[1;34m(self, response)\u001b[0m\n\u001b[0;32m    241\u001b[0m         alert_text \u001b[39m=\u001b[39m value[\u001b[39m'\u001b[39m\u001b[39malert\u001b[39m\u001b[39m'\u001b[39m]\u001b[39m.\u001b[39mget(\u001b[39m'\u001b[39m\u001b[39mtext\u001b[39m\u001b[39m'\u001b[39m)\n\u001b[0;32m    242\u001b[0m     \u001b[39mraise\u001b[39;00m exception_class(message, screen, stacktrace, alert_text)  \u001b[39m# type: ignore[call-arg]  # mypy is not smart enough here\u001b[39;00m\n\u001b[1;32m--> 243\u001b[0m \u001b[39mraise\u001b[39;00m exception_class(message, screen, stacktrace)\n",
      "\u001b[1;31mStaleElementReferenceException\u001b[0m: Message: stale element reference: element is not attached to the page document\n  (Session info: chrome=108.0.5359.125)\nStacktrace:\nBacktrace:\n\t(No symbol) [0x008DF243]\n\t(No symbol) [0x00867FD1]\n\t(No symbol) [0x0075D04D]\n\t(No symbol) [0x0075FD34]\n\t(No symbol) [0x0075FBE5]\n\t(No symbol) [0x0075FE80]\n\t(No symbol) [0x0078BD55]\n\t(No symbol) [0x0078C22B]\n\t(No symbol) [0x00782CA1]\n\t(No symbol) [0x007A85D4]\n\t(No symbol) [0x00782BFF]\n\t(No symbol) [0x007A8804]\n\t(No symbol) [0x007BC9EB]\n\t(No symbol) [0x007A8386]\n\t(No symbol) [0x0078163C]\n\t(No symbol) [0x0078269D]\n\tGetHandleVerifier [0x00B79A22+2655074]\n\tGetHandleVerifier [0x00B6CA24+2601828]\n\tGetHandleVerifier [0x00988C0A+619850]\n\tGetHandleVerifier [0x00987830+614768]\n\t(No symbol) [0x008705FC]\n\t(No symbol) [0x00875968]\n\t(No symbol) [0x00875A55]\n\t(No symbol) [0x0088051B]\n\tBaseThreadInitThunk [0x76906BD9+25]\n\tRtlGetFullPathName_UEx [0x77D28FD2+1218]\n\tRtlGetFullPathName_UEx [0x77D28F9D+1165]\n"
     ]
    }
   ],
   "source": [
    "#page_url = 'https://www.amazon.com/Biscotti-Birthday-Christmas-Sympathy-Thanksgiving/product-reviews/B09K2KVFYC/ref=cm_cr_dp_d_show_all_btm?ie=UTF8&reviewerType=all_reviews'\n",
    "#page_url = 'https://www.amazon.com/Barnetts-Biscotti-Christmas-Thanksgiving-Valentines/product-reviews/B006J7TAHM/ref=cm_cr_dp_d_show_all_btm?ie=UTF8&reviewerType=all_reviews'\n",
    "#page_url = 'https://www.amazon.com/Barnetts-Gift-Cookie-Baskets-Thanksgiving/product-reviews/B07Q8DTKR9/ref=cm_cr_dp_d_show_all_btm?ie=UTF8&reviewerType=all_reviews'\n",
    "#page_url = 'https://www.amazon.com/Godiva-Chocolatier-Assorted-Chocolate-19-Ct/product-reviews/B08GJQRKRH/ref=cm_cr_dp_d_show_all_btm?ie=UTF8&reviewerType=all_reviews'\n",
    "page_url = 'https://www.amazon.com/Lindt-Swiss-Luxury-Selection-Chocolate/product-reviews/B0097BVKXO/ref=cm_cr_dp_d_show_all_btm?ie=UTF8&reviewerType=all_reviews'\n",
    "\n",
    "review_df = get_reviews(page_url)\n",
    "review_df.to_csv('amazonreviews4.csv', index= False)"
   ]
  },
  {
   "cell_type": "markdown",
   "metadata": {},
   "source": []
  }
 ],
 "metadata": {
  "kernelspec": {
   "display_name": "Python 3",
   "language": "python",
   "name": "python3"
  },
  "language_info": {
   "codemirror_mode": {
    "name": "ipython",
    "version": 3
   },
   "file_extension": ".py",
   "mimetype": "text/x-python",
   "name": "python",
   "nbconvert_exporter": "python",
   "pygments_lexer": "ipython3",
   "version": "3.10.4"
  },
  "orig_nbformat": 4,
  "vscode": {
   "interpreter": {
    "hash": "338c97031e855bd27d6df552f1e4b6678c96cf9bde349ef9866534b89a674971"
   }
  }
 },
 "nbformat": 4,
 "nbformat_minor": 2
}
